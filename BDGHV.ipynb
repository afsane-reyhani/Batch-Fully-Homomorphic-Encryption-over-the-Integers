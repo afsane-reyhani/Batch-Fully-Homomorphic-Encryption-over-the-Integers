{
 "cells": [
  {
   "cell_type": "code",
   "execution_count": 1,
   "metadata": {},
   "outputs": [],
   "source": [
    "import random\n",
    "import numpy as np\n",
    "import math\n",
    "import sympy\n",
    "from functools import reduce"
   ]
  },
  {
   "cell_type": "markdown",
   "metadata": {},
   "source": [
    "## convert a positive integer x into binary"
   ]
  },
  {
   "cell_type": "code",
   "execution_count": 2,
   "metadata": {},
   "outputs": [],
   "source": [
    "def digits(x): #always binary\n",
    "            x = int(x)\n",
    "            le = list('{0:0b}'.format(x))\n",
    "            le.reverse()\n",
    "            return le"
   ]
  },
  {
   "cell_type": "markdown",
   "metadata": {},
   "source": [
    "## Converts a positive integer x into binary with l digits"
   ]
  },
  {
   "cell_type": "code",
   "execution_count": 3,
   "metadata": {},
   "outputs": [],
   "source": [
    "def toBinary(x,l):\n",
    "        x=int(x)\n",
    "        return digits(x+2**l)[:-1]"
   ]
  },
  {
   "cell_type": "markdown",
   "metadata": {},
   "source": [
    "# – BitDecomp"
   ]
  },
  {
   "cell_type": "code",
   "execution_count": 4,
   "metadata": {},
   "outputs": [],
   "source": [
    "def BitDecomp(v,η):\n",
    "    v=list(v)\n",
    "    v=extractKBitsLIST(v,η)\n",
    "    n=len(v)\n",
    "    arr = np.empty((0,η), int)\n",
    "   # print(\"1\",arr)\n",
    "    for i in v:\n",
    "         row=toBinary(i,η)\n",
    "        # print(\"row\",row)\n",
    "         arr = np.append(arr, np.array([row]), axis=0)\n",
    "       #  print(arr)\n",
    "    #print(\"arr2\",arr)\n",
    "    return arr"
   ]
  },
  {
   "cell_type": "markdown",
   "metadata": {},
   "source": [
    "# – PowersofTwo"
   ]
  },
  {
   "cell_type": "code",
   "execution_count": 5,
   "metadata": {},
   "outputs": [],
   "source": [
    "def PowersofTwo(w,η):\n",
    "     w=list(w)\n",
    "     n= len(w)\n",
    "     arr = np.empty((n,0), int)\n",
    "     for i in range (0,η) :\n",
    "            column=np.multiply((2**i),w)\n",
    "            arr=np.c_[arr,column]\n",
    "     print(arr)\n",
    "     return arr       "
   ]
  },
  {
   "cell_type": "markdown",
   "metadata": {},
   "source": [
    "# convert list to string"
   ]
  },
  {
   "cell_type": "code",
   "execution_count": 6,
   "metadata": {},
   "outputs": [],
   "source": [
    "def listToString(s):  \n",
    "    \n",
    "    # initialize an empty string \n",
    "    str1 = \"\"  \n",
    "    \n",
    "    # traverse in the string   \n",
    "    for ele in s:  \n",
    "        str1 += ele   \n",
    "    \n",
    "    # return string   \n",
    "    return str1 "
   ]
  },
  {
   "cell_type": "markdown",
   "metadata": {},
   "source": [
    "# comput num to mod $2^k$ binarry "
   ]
  },
  {
   "cell_type": "code",
   "execution_count": 7,
   "metadata": {},
   "outputs": [],
   "source": [
    "def extractKBits(num,k): \n",
    "  \n",
    "     binary = toBinary(num,k) \n",
    "     binary.reverse()\n",
    "     binary=binary[-k:]\n",
    "     binary=listToString(binary)\n",
    "     kBitSubStr=int(binary,2)\n",
    "     return kBitSubStr"
   ]
  },
  {
   "cell_type": "markdown",
   "metadata": {},
   "source": [
    "# comput num to mod $2^k$ binarry  LIST"
   ]
  },
  {
   "cell_type": "code",
   "execution_count": 8,
   "metadata": {},
   "outputs": [],
   "source": [
    "def extractKBitsLIST(num,k): \n",
    "     L=[]\n",
    "     # convert number into binary first \n",
    "     for i in num:\n",
    "               binary = toBinary(i,k) \n",
    "               binary.reverse()\n",
    "               binary=binary[-k:]\n",
    "               binary=listToString(binary)\n",
    "               kBitSubStr=int(binary,2)\n",
    "               L.append(kBitSubStr)\n",
    "     return L "
   ]
  },
  {
   "cell_type": "markdown",
   "metadata": {},
   "source": [
    "## $\\lfloor \\frac{a}{b} \\rceil$   Gives the nearest integer to $\\frac{a}{b}$"
   ]
  },
  {
   "cell_type": "code",
   "execution_count": 9,
   "metadata": {},
   "outputs": [],
   "source": [
    "def QuotientNear(a,b):\n",
    "    a=int(a)\n",
    "    b=int(b)\n",
    "    return ((a<<1)+b)//(b<<1)"
   ]
  },
  {
   "cell_type": "markdown",
   "metadata": {},
   "source": [
    "## $ a \\quad mod \\quad b = a - b \\lfloor \\frac{a}{b} \\rceil $  Computes a mod b with $a \\in [\\frac{-b}{2},\\frac{b}{2}]$"
   ]
  },
  {
   "cell_type": "code",
   "execution_count": 10,
   "metadata": {},
   "outputs": [],
   "source": [
    "def modNear(a,b):\n",
    "    return a-b*QuotientNear(a,b)"
   ]
  },
  {
   "cell_type": "markdown",
   "metadata": {},
   "source": [
    "## $ a \\quad mod \\quad b = a - b \\lfloor \\frac{a}{b} \\rceil $  Computes a mod b with $a \\in [\\frac{-b}{2},\\frac{b}{2}]$ a=list ,b=number"
   ]
  },
  {
   "cell_type": "code",
   "execution_count": 11,
   "metadata": {},
   "outputs": [],
   "source": [
    "def mNear(a,b):\n",
    "    e=[]\n",
    "    for i in a:\n",
    "        e.append(QuotientNear(i,b))\n",
    "       # print(e)\n",
    "    return np.subtract(a,np.multiply(b,e))"
   ]
  },
  {
   "cell_type": "markdown",
   "metadata": {},
   "source": [
    "#  pseudo-random number generator"
   ]
  },
  {
   "cell_type": "code",
   "execution_count": 12,
   "metadata": {},
   "outputs": [],
   "source": [
    "def grandom(se,T,γ):\n",
    "    random.seed(se)\n",
    "    for i in range(T):\n",
    "        yield  random.randint(0,2**γ)\n",
    "    return "
   ]
  },
  {
   "cell_type": "code",
   "execution_count": 13,
   "metadata": {},
   "outputs": [],
   "source": [
    "def kd(i,j):\n",
    "    if (i == j):\n",
    "        return 1\n",
    "    else:\n",
    "        return 0"
   ]
  },
  {
   "cell_type": "markdown",
   "metadata": {},
   "source": [
    "## Euclidean algorithm developed to find multiplicative inverse a  mod b"
   ]
  },
  {
   "cell_type": "code",
   "execution_count": 14,
   "metadata": {},
   "outputs": [],
   "source": [
    "def mul_inv(a, b):\n",
    "    b0 = b\n",
    "    x0, x1 = 0, 1\n",
    "    if b == 1: return 1\n",
    "    while a > 1:\n",
    "        q = a // b\n",
    "        a, b = b, a%b\n",
    "        x0, x1 = x1 - q * x0, x0\n",
    "    if x1 < 0: x1 += b0\n",
    "    return x1"
   ]
  },
  {
   "cell_type": "markdown",
   "metadata": {},
   "source": [
    "## chinese remainder theorem"
   ]
  },
  {
   "cell_type": "code",
   "execution_count": 15,
   "metadata": {},
   "outputs": [],
   "source": [
    "def CRT(n, a): \n",
    "    sum = 0\n",
    "    prod = reduce(lambda a, b: a*b, n)\n",
    "    for n_i, a_i in zip(n, a):\n",
    "        p = prod // n_i\n",
    "        sum += a_i * mul_inv(p, n_i) * p\n",
    "    return sum % prod"
   ]
  },
  {
   "cell_type": "markdown",
   "metadata": {},
   "source": [
    "#  parameters and generate key"
   ]
  },
  {
   "cell_type": "code",
   "execution_count": 16,
   "metadata": {},
   "outputs": [],
   "source": [
    "def keygeneration(λ):\n",
    "    # in the security parameter λ\n",
    "    λ = int(input(\"enter security parameter\"))\n",
    "    print(\"λ\",λ)\n",
    "    # L is the length of plaintext\n",
    "    L = int(input(\"enter length of plaintext\"))\n",
    "    print(\"L\",L)\n",
    "    Q=[]\n",
    "    for i in range(0,L):\n",
    "        #Q.append(int(input(\"integer coprime and plaintext comes of rings\")))\n",
    "         Q.append(2)\n",
    "    # ρ is the bit-length of the first noise parameter.\n",
    "    ρ = 2*λ\n",
    "    ρ=QuotientNear(ρ,1)\n",
    "    print(\"ρ\",ρ)\n",
    "    # η is the bit-length of the secret key\n",
    "    η =λ**2\n",
    "    η=QuotientNear(η,1)\n",
    "    print(\"η\",η)\n",
    "    # γ is the bit-length of an approximate GCD sample.\n",
    "    γ = λ**5\n",
    "    γ = QuotientNear(γ,1)\n",
    "    print(\"γ\",γ)\n",
    "    # τ is the number of integers in the public key.\n",
    "    τ = λ**3\n",
    "    τ = QuotientNear(τ,1)\n",
    "    print(\"τ\",τ)\n",
    "    ρρ= λ\n",
    "    ρρ=QuotientNear(ρρ,1)\n",
    "    print(\"ρρ\",ρρ)\n",
    "    α = λ**2\n",
    "    α = QuotientNear(α,1)\n",
    "    print(\"α\",α)\n",
    "    αα = λ**2\n",
    "    αα = QuotientNear(αα,1)\n",
    "    print(\"αα\",αα)\n",
    "    #print(\"Random integer from 2^(η-1) to 2^(η)\")\n",
    "    P=[]\n",
    "    for i in range(0,L):\n",
    "         P.append(sympy.randprime(2**(η-1), 2**(η)))\n",
    "    #print(\"secret key: \", p)\n",
    "    π=np.product(P)\n",
    "   # q_0 = random.randint(0, (2**γ)//p)\n",
    "    q=[]\n",
    "    for i in range(0,2):\n",
    "        q.append(sympy.randprime(2**((λ**2)-1), 2**(λ**2)))\n",
    "    q_0=np.product(q)\n",
    "    x_0=q_0*π\n",
    "    for i in Q:\n",
    "        if math.gcd(i,x_0)==1:\n",
    "            print(True)\n",
    "        else:\n",
    "            print(False)\n",
    "    \n",
    "    X=[]\n",
    "    for i in range(0,τ):\n",
    "        r=np.random.randint(-2**(ρρ-1),2**(ρρ-1),L)\n",
    "        b=np.multiply(2,r)\n",
    "        x_i=CRT(P,b)\n",
    "        X.append(x_i)\n",
    "            \n",
    "        \n",
    "    XX=[]\n",
    "    for i in range(0,L):\n",
    "        rr=np.random.randint(-2**ρ,2**ρ,L)\n",
    "        bb=np.multiply(2,rr)\n",
    "        bb[i]=bb[i]+1\n",
    "        xx_i=CRT(P,bb)\n",
    "        XX.append(xx_i)\n",
    "    W=[]\n",
    "    for i in range(0,L):\n",
    "        ww=np.random.randint(-2**ρ,2**ρ,L)\n",
    "        ww=np.multiply(2,ww)\n",
    "        ww[i]=ww[i]+(2**(ρρ+1))\n",
    "        w_i=CRT(P,ww)\n",
    "        W.append(w_i)\n",
    "        \n",
    "    return λ,ρ,η,γ,τ,x_0,Q,P,X,XX,W,ρρ,α,αα"
   ]
  },
  {
   "cell_type": "code",
   "execution_count": 17,
   "metadata": {},
   "outputs": [
    {
     "name": "stdout",
     "output_type": "stream",
     "text": [
      "enter security parameter10\n",
      "λ 10\n",
      "enter length of plaintext10\n",
      "L 10\n",
      "ρ 20\n",
      "η 100\n",
      "γ 100000\n",
      "τ 1000\n",
      "ρρ 10\n",
      "α 100\n",
      "αα 100\n",
      "True\n",
      "True\n",
      "True\n",
      "True\n",
      "True\n",
      "True\n",
      "True\n",
      "True\n",
      "True\n",
      "True\n"
     ]
    }
   ],
   "source": [
    "λ=1\n",
    "j=keygeneration(λ)\n",
    "λ=j[0]\n",
    "ρ=j[1]\n",
    "η=j[2]\n",
    "γ=j[3]\n",
    "τ=j[4]\n",
    "x_0=j[5]\n",
    "Q =j[6]\n",
    "P=j[7]\n",
    "X=j[8]\n",
    "XX=j[9]\n",
    "W=j[10]\n",
    "ρρ=j[11]\n",
    "α=j[12]\n",
    "αα=j[13]"
   ]
  },
  {
   "cell_type": "markdown",
   "metadata": {},
   "source": [
    "## generate list plain text"
   ]
  },
  {
   "cell_type": "code",
   "execution_count": 18,
   "metadata": {},
   "outputs": [],
   "source": [
    "def plaintext(Q):\n",
    "    #n = int(input(\"Enter number of elements : \"))\n",
    "    m=[]\n",
    "    for i in Q:\n",
    "        mm = np.random.randint(0,i)\n",
    "        m.append(mm)\n",
    "    print('plaintext' ,m)\n",
    "    return m"
   ]
  },
  {
   "cell_type": "code",
   "execution_count": 19,
   "metadata": {},
   "outputs": [
    {
     "name": "stdout",
     "output_type": "stream",
     "text": [
      "plaintext [1, 1, 1, 0, 1, 0, 1, 0, 1, 0]\n"
     ]
    }
   ],
   "source": [
    "m=plaintext(Q)"
   ]
  },
  {
   "cell_type": "markdown",
   "metadata": {},
   "source": [
    "# encryption"
   ]
  },
  {
   "cell_type": "code",
   "execution_count": 20,
   "metadata": {},
   "outputs": [],
   "source": [
    "def enc(m,x_0,τ,X,XX):\n",
    "    m = list(m)\n",
    "    b=[]\n",
    "    for i in range (0,τ):\n",
    "                b.append(random.randint(-2**α,2**α))\n",
    "    bb=[]\n",
    "    for i in range (0,len(m)):\n",
    "                bb.append(random.randint(-2**αα,2**αα))\n",
    "    \n",
    "    c0=np.inner(m,XX)+np.inner(b,X)+np.inner(bb,W)\n",
    "    c=modNear(c0,x_0)\n",
    "    print(\"ciphertext\",c)\n",
    "    return c"
   ]
  },
  {
   "cell_type": "code",
   "execution_count": 21,
   "metadata": {},
   "outputs": [
    {
     "name": "stdout",
     "output_type": "stream",
     "text": [
      "ciphertext -15950817968480742409175590674083532983968721944572875687054415565845998319510705822922659088398416336593742318409219015133672227797933900717907807190384461235000225807408742259049890154943737235213518363942036504855805654488190982471182202172500967936160270519245414825908730227905509266608024048122491166515802803013341240526842857\n",
      "--- 0.02500152587890625 seconds ---\n"
     ]
    }
   ],
   "source": [
    "import time\n",
    "start_time = time.time()\n",
    "c=enc(m,x_0,τ,X,XX)\n",
    "print(\"--- %s seconds ---\" % (time.time() - start_time))"
   ]
  },
  {
   "cell_type": "markdown",
   "metadata": {},
   "source": [
    "# decription"
   ]
  },
  {
   "cell_type": "code",
   "execution_count": 22,
   "metadata": {},
   "outputs": [],
   "source": [
    "def dec(c,P,Q):\n",
    "    #ddd=np.multiplay(2,c)\n",
    "    d0=[]\n",
    "    for j in P:\n",
    "        d0.append(modNear(c,j))\n",
    "    d=[]\n",
    "    for i in range(0,len(Q)):\n",
    "        d.append(d0[i]%2)\n",
    "    print(\"decription\",d)\n",
    "    return d"
   ]
  },
  {
   "cell_type": "code",
   "execution_count": 23,
   "metadata": {},
   "outputs": [
    {
     "name": "stdout",
     "output_type": "stream",
     "text": [
      "decription [0, 1, 0, 1, 1, 0, 1, 1, 0, 1]\n",
      "--- 0.0060002803802490234 seconds ---\n"
     ]
    }
   ],
   "source": [
    "import time\n",
    "start_time = time.time()\n",
    "d=dec(c,P,Q)\n",
    "print(\"--- %s seconds ---\" % (time.time() - start_time))"
   ]
  },
  {
   "cell_type": "markdown",
   "metadata": {},
   "source": [
    "# error decription"
   ]
  },
  {
   "cell_type": "code",
   "execution_count": 24,
   "metadata": {},
   "outputs": [],
   "source": [
    "def error(d,m):\n",
    "    m=list(m)\n",
    "    xx = np.add(d,m)\n",
    "    xxx  = xx % 2\n",
    "    x  = list(xxx)\n",
    "    error=sum(x)\n",
    "    print('error', error)"
   ]
  },
  {
   "cell_type": "code",
   "execution_count": 25,
   "metadata": {},
   "outputs": [
    {
     "name": "stdout",
     "output_type": "stream",
     "text": [
      "error 6\n"
     ]
    }
   ],
   "source": [
    "error(d,m)"
   ]
  },
  {
   "cell_type": "markdown",
   "metadata": {},
   "source": [
    "# Add multi list"
   ]
  },
  {
   "cell_type": "code",
   "execution_count": 26,
   "metadata": {},
   "outputs": [],
   "source": [
    "def multilistsum(x_0,γ,τ,X,XX,Q,P):\n",
    "    k = int(input(\"Enter number of lists : \"))\n",
    "    #n = int(input(\"Enter number of elements : \"))\n",
    "    m=[]\n",
    "    for i in range(0,k):\n",
    "        m.append(plaintext(Q))\n",
    "    c=[]\n",
    "    for i in m:\n",
    "        cc=enc(i,x_0,τ,X,XX)\n",
    "        c.append(cc)\n",
    "    sumc=modNear(sum(c),x_0)\n",
    "    d=dec(sumc,P,Q)\n",
    "    print(\"decription SUM Multi cipertext List\",d)\n",
    "    ggg=np.zeros(len(Q))\n",
    "    gg=list(ggg)\n",
    "    for i in m:\n",
    "        sumplaintexst=np.add(gg,i)\n",
    "        gg=sumplaintexst\n",
    "    gg=list(gg)\n",
    "    dd=[]\n",
    "    for i in gg:\n",
    "        i=i%2\n",
    "        dd.append(i)\n",
    "    print(\"SUM MUlti plaintext List\" , dd)\n",
    "    print('error', error(d,dd))"
   ]
  },
  {
   "cell_type": "code",
   "execution_count": 27,
   "metadata": {},
   "outputs": [
    {
     "name": "stdout",
     "output_type": "stream",
     "text": [
      "Enter number of lists : 2\n",
      "plaintext [1, 1, 1, 0, 0, 0, 1, 1, 1, 0]\n",
      "plaintext [1, 0, 1, 0, 0, 1, 0, 1, 1, 1]\n",
      "ciphertext -27463457964075794051418811870886703334137508054692328073189389664455604073498361883598201543861105214624828681374733822638416834523570806270428847179703748785085632726146072671803534795786446774635800931389829421948485047045202998771636631915233655868501608691771633478961041139603664186477982964312916584321975057512043380221621078\n",
      "ciphertext -5932491553031610179644371480655978313102819828089371188221431656020371042800076293868694902325790760632372603500754550887259441647729913480581878213878602797134224145389171731756930858615625577079193022826804743568544341622065103611576154991202855964108637040430943446237311500389149486139858236570961321249285533490390651635427039\n",
      "decription [0, 1, 1, 0, 1, 0, 1, 1, 0, 1]\n",
      "decription SUM Multi cipertext List [0, 1, 1, 0, 1, 0, 1, 1, 0, 1]\n",
      "SUM MUlti plaintext List [0.0, 1.0, 0.0, 0.0, 0.0, 1.0, 1.0, 0.0, 0.0, 1.0]\n",
      "error 4.0\n",
      "error None\n"
     ]
    }
   ],
   "source": [
    "multilistsum(x_0,γ,τ,X,XX,Q,P)"
   ]
  },
  {
   "cell_type": "markdown",
   "metadata": {},
   "source": [
    "# MULTIPLACTION multi list"
   ]
  },
  {
   "cell_type": "code",
   "execution_count": 28,
   "metadata": {},
   "outputs": [],
   "source": [
    "def multilistmultiplaction(x_0,γ,τ,X,XX,Q,P):\n",
    "    k = int(input(\"Enter number of lists : \"))\n",
    "   # n = int(input(\"Enter number of elements : \"))\n",
    "    m=[]\n",
    "    for i in range(0,k):\n",
    "        m.append(plaintext(Q))\n",
    "    c=[]\n",
    "    for i in m:\n",
    "        cc=enc(i,x_0,τ,X,XX)\n",
    "        c.append(cc)\n",
    "    multc=modNear(np.product(c),x_0)\n",
    "    d= dec(multc,P,Q)\n",
    "    print(\"decription multiplacton multi ciphertext\" , d)\n",
    "    uuu=np.ones(len(Q))\n",
    "    uu=list(uuu)\n",
    "    for i in m:\n",
    "        mulevalute = np.multiply(uu,i) \n",
    "        uu=mulevalute\n",
    "    uu=list(uu)\n",
    "    dd=[]\n",
    "    for i in uu:\n",
    "        i=i%2\n",
    "        dd.append(i)\n",
    "    print(\"multiplaction MUlti plaintext List\" , dd)\n",
    "    print('error', error(d,dd))"
   ]
  },
  {
   "cell_type": "code",
   "execution_count": 29,
   "metadata": {},
   "outputs": [
    {
     "name": "stdout",
     "output_type": "stream",
     "text": [
      "Enter number of lists : 2\n",
      "plaintext [0, 0, 0, 0, 1, 1, 1, 0, 1, 1]\n",
      "plaintext [1, 0, 1, 1, 0, 0, 1, 0, 0, 0]\n",
      "ciphertext 10228348778309818593915372554101555643303587683879296431403276019976162269722923310794832558354974938312376490381030974706208641749149102354397736581855979351336627636065623196546396339121389055293917723789646205615451965298304095847328658194822881923334923335815915556409191668945584357796595201121501544673928988303388540501614049\n",
      "ciphertext -12475422065259747552900048607530417813190720734904510705136352312276647466140528877868447136042744862917086625307902808840524868092605948027350932926305674282965038953798421146447001165979873314380744375542964777041437775390238484549507469946537085582540212404439005865680581375422734777630540273530809099921782132980096263409898797\n",
      "decription [1, 0, 0, 0, 1, 1, 1, 1, 1, 1]\n",
      "decription multiplacton multi ciphertext [1, 0, 0, 0, 1, 1, 1, 1, 1, 1]\n",
      "multiplaction MUlti plaintext List [0.0, 0.0, 0.0, 0.0, 0.0, 0.0, 1.0, 0.0, 0.0, 0.0]\n",
      "error 6.0\n",
      "error None\n"
     ]
    }
   ],
   "source": [
    "multilistmultiplaction(x_0,γ,τ,X,XX,Q,P)"
   ]
  }
 ],
 "metadata": {
  "kernelspec": {
   "display_name": "Python 3",
   "language": "python",
   "name": "python3"
  },
  "language_info": {
   "codemirror_mode": {
    "name": "ipython",
    "version": 3
   },
   "file_extension": ".py",
   "mimetype": "text/x-python",
   "name": "python",
   "nbconvert_exporter": "python",
   "pygments_lexer": "ipython3",
   "version": "3.6.5"
  }
 },
 "nbformat": 4,
 "nbformat_minor": 4
}
