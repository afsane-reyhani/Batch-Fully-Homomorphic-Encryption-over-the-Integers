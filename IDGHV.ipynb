{
 "cells": [
  {
   "cell_type": "code",
   "execution_count": 1,
   "metadata": {},
   "outputs": [],
   "source": [
    "import random\n",
    "import numpy as np\n",
    "import math\n",
    "import sympy\n",
    "from functools import reduce"
   ]
  },
  {
   "cell_type": "markdown",
   "metadata": {},
   "source": [
    "## convert a positive integer x into binary"
   ]
  },
  {
   "cell_type": "code",
   "execution_count": 2,
   "metadata": {},
   "outputs": [],
   "source": [
    "def digits(x): #always binary\n",
    "            x = int(x)\n",
    "            le = list('{0:0b}'.format(x))\n",
    "            le.reverse()\n",
    "            return le"
   ]
  },
  {
   "cell_type": "markdown",
   "metadata": {},
   "source": [
    "## Converts a positive integer x into binary with l digits"
   ]
  },
  {
   "cell_type": "code",
   "execution_count": 3,
   "metadata": {},
   "outputs": [],
   "source": [
    "def toBinary(x,l):\n",
    "        x=int(x)\n",
    "        return digits(x+2**l)[:-1]"
   ]
  },
  {
   "cell_type": "markdown",
   "metadata": {},
   "source": [
    "# – BitDecomp"
   ]
  },
  {
   "cell_type": "code",
   "execution_count": 4,
   "metadata": {},
   "outputs": [],
   "source": [
    "def BitDecomp(v,η):\n",
    "    v=list(v)\n",
    "    v=extractKBitsLIST(v,η)\n",
    "    n=len(v)\n",
    "    arr = np.empty((0,η), int)\n",
    "   # print(\"1\",arr)\n",
    "    for i in v:\n",
    "         row=toBinary(i,η)\n",
    "        # print(\"row\",row)\n",
    "         arr = np.append(arr, np.array([row]), axis=0)\n",
    "       #  print(arr)\n",
    "    #print(\"arr2\",arr)\n",
    "    return arr"
   ]
  },
  {
   "cell_type": "markdown",
   "metadata": {},
   "source": [
    "# – PowersofTwo"
   ]
  },
  {
   "cell_type": "code",
   "execution_count": 5,
   "metadata": {},
   "outputs": [],
   "source": [
    "def PowersofTwo(w,η):\n",
    "     w=list(w)\n",
    "     n= len(w)\n",
    "     arr = np.empty((n,0), int)\n",
    "     for i in range (0,η) :\n",
    "            column=np.multiply((2**i),w)\n",
    "            arr=np.c_[arr,column]\n",
    "     print(arr)\n",
    "     return arr       "
   ]
  },
  {
   "cell_type": "markdown",
   "metadata": {},
   "source": [
    "# convert list to string"
   ]
  },
  {
   "cell_type": "code",
   "execution_count": 6,
   "metadata": {},
   "outputs": [],
   "source": [
    "def listToString(s):  \n",
    "    \n",
    "    # initialize an empty string \n",
    "    str1 = \"\"  \n",
    "    \n",
    "    # traverse in the string   \n",
    "    for ele in s:  \n",
    "        str1 += ele   \n",
    "    \n",
    "    # return string   \n",
    "    return str1 "
   ]
  },
  {
   "cell_type": "markdown",
   "metadata": {},
   "source": [
    "# comput num to mod $2^k$ binarry "
   ]
  },
  {
   "cell_type": "code",
   "execution_count": 7,
   "metadata": {},
   "outputs": [],
   "source": [
    "def extractKBits(num,k): \n",
    "  \n",
    "     binary = toBinary(num,k) \n",
    "     binary.reverse()\n",
    "     binary=binary[-k:]\n",
    "     binary=listToString(binary)\n",
    "     kBitSubStr=int(binary,2)\n",
    "     return kBitSubStr"
   ]
  },
  {
   "cell_type": "markdown",
   "metadata": {},
   "source": [
    "# comput num to mod $2^k$ binarry  LIST"
   ]
  },
  {
   "cell_type": "code",
   "execution_count": 8,
   "metadata": {},
   "outputs": [],
   "source": [
    "def extractKBitsLIST(num,k): \n",
    "     L=[]\n",
    "     # convert number into binary first \n",
    "     for i in num:\n",
    "               binary = toBinary(i,k) \n",
    "               binary.reverse()\n",
    "               binary=binary[-k:]\n",
    "               binary=listToString(binary)\n",
    "               kBitSubStr=int(binary,2)\n",
    "               L.append(kBitSubStr)\n",
    "     return L "
   ]
  },
  {
   "cell_type": "markdown",
   "metadata": {},
   "source": [
    "## $\\lfloor \\frac{a}{b} \\rceil$   Gives the nearest integer to $\\frac{a}{b}$"
   ]
  },
  {
   "cell_type": "code",
   "execution_count": 9,
   "metadata": {},
   "outputs": [],
   "source": [
    "def QuotientNear(a,b):\n",
    "    a=int(a)\n",
    "    b=int(b)\n",
    "    return ((a<<1)+b)//(b<<1)"
   ]
  },
  {
   "cell_type": "markdown",
   "metadata": {},
   "source": [
    "## $ a \\quad mod \\quad b = a - b \\lfloor \\frac{a}{b} \\rceil $  Computes a mod b with $a \\in [\\frac{-b}{2},\\frac{b}{2}]$"
   ]
  },
  {
   "cell_type": "code",
   "execution_count": 10,
   "metadata": {},
   "outputs": [],
   "source": [
    "def modNear(a,b):\n",
    "    return a-b*QuotientNear(a,b)"
   ]
  },
  {
   "cell_type": "markdown",
   "metadata": {},
   "source": [
    "## $ a \\quad mod \\quad b = a - b \\lfloor \\frac{a}{b} \\rceil $  Computes a mod b with $a \\in [\\frac{-b}{2},\\frac{b}{2}]$ a=list ,b=number"
   ]
  },
  {
   "cell_type": "code",
   "execution_count": 11,
   "metadata": {},
   "outputs": [],
   "source": [
    "def mNear(a,b):\n",
    "    e=[]\n",
    "    for i in a:\n",
    "        e.append(QuotientNear(i,b))\n",
    "       # print(e)\n",
    "    return np.subtract(a,np.multiply(b,e))"
   ]
  },
  {
   "cell_type": "markdown",
   "metadata": {},
   "source": [
    "#  pseudo-random number generator"
   ]
  },
  {
   "cell_type": "code",
   "execution_count": 12,
   "metadata": {},
   "outputs": [],
   "source": [
    "def grandom(se,T,γ):\n",
    "    random.seed(se)\n",
    "    for i in range(T):\n",
    "        yield  random.randint(0,2**γ)\n",
    "    return "
   ]
  },
  {
   "cell_type": "code",
   "execution_count": 13,
   "metadata": {},
   "outputs": [],
   "source": [
    "def kd(i,j):\n",
    "    if (i == j):\n",
    "        return 1\n",
    "    else:\n",
    "        return 0"
   ]
  },
  {
   "cell_type": "markdown",
   "metadata": {},
   "source": [
    "## Euclidean algorithm developed to find multiplicative inverse a  mod b"
   ]
  },
  {
   "cell_type": "code",
   "execution_count": 14,
   "metadata": {},
   "outputs": [],
   "source": [
    "def mul_inv(a, b):\n",
    "    b0 = b\n",
    "    x0, x1 = 0, 1\n",
    "    if b == 1: return 1\n",
    "    while a > 1:\n",
    "        q = a // b\n",
    "        a, b = b, a%b\n",
    "        x0, x1 = x1 - q * x0, x0\n",
    "    if x1 < 0: x1 += b0\n",
    "    return x1"
   ]
  },
  {
   "cell_type": "markdown",
   "metadata": {},
   "source": [
    "## chinese remainder theorem"
   ]
  },
  {
   "cell_type": "code",
   "execution_count": 15,
   "metadata": {},
   "outputs": [],
   "source": [
    "def CRT(n, a): \n",
    "    sum = 0\n",
    "    prod = reduce(lambda a, b: a*b, n)\n",
    "    for n_i, a_i in zip(n, a):\n",
    "        p = prod // n_i\n",
    "        sum += a_i * mul_inv(p, n_i) * p\n",
    "    return sum % prod"
   ]
  },
  {
   "cell_type": "markdown",
   "metadata": {},
   "source": [
    "#  parameters and generate key"
   ]
  },
  {
   "cell_type": "code",
   "execution_count": 16,
   "metadata": {},
   "outputs": [],
   "source": [
    "def keygeneration(λ):\n",
    "    # in the security parameter λ\n",
    "    λ = int(input(\"enter security parameter\"))\n",
    "    print(\"λ\",λ)\n",
    "    # L is the length of plaintext\n",
    "    L = int(input(\"enter length of plaintext\"))\n",
    "    print(\"L\",L)\n",
    "    Q=[]\n",
    "    for i in range(0,L):\n",
    "        Q.append(int(input(\"integer coprime and plaintext comes of rings\")))\n",
    "        \n",
    "    # ρ is the bit-length of the first noise parameter.\n",
    "    ρ = 2*λ\n",
    "    ρ=QuotientNear(ρ,1)\n",
    "    print(\"ρ\",ρ)\n",
    "    # η is the bit-length of the secret key\n",
    "    η =λ**2\n",
    "    η=QuotientNear(η,1)\n",
    "    print(\"η\",η)\n",
    "    # γ is the bit-length of an approximate GCD sample.\n",
    "    γ = λ**5\n",
    "    γ = QuotientNear(γ,1)\n",
    "    print(\"γ\",γ)\n",
    "    # τ is the number of integers in the public key.\n",
    "    τ = λ+γ\n",
    "    τ = QuotientNear(τ,1)\n",
    "    print(\"τ\",τ)\n",
    "    #print(\"Random integer from 2^(η-1) to 2^(η)\")\n",
    "    P=[]\n",
    "    for i in range(0,L):\n",
    "         P.append(sympy.randprime(2**(η-1), 2**(η)))\n",
    "    #print(\"secret key: \", p)\n",
    "    π=np.product(P)\n",
    "   # q_0 = random.randint(0, (2**γ)//p)\n",
    "    q=[]\n",
    "    for i in range(0,2):\n",
    "        q.append(sympy.randprime(2**((λ**2)-1), 2**(λ**2)))\n",
    "    q_0=np.product(q)\n",
    "    x_0=q_0*π\n",
    "    for i in Q:\n",
    "        if math.gcd(i,x_0)==1:\n",
    "            print(True)\n",
    "        else:\n",
    "            print(False)\n",
    "    \n",
    "    X=[]\n",
    "    for i in range(0,τ):\n",
    "        r=np.random.randint(-2**ρ,2**ρ,L)\n",
    "        b=np.multiply(Q,r)\n",
    "        x_i=CRT(P,b)\n",
    "        X.append(x_i)\n",
    "            \n",
    "        \n",
    "    XX=[]\n",
    "    for i in range(0,L):\n",
    "        rr=np.random.randint(-2**ρ,2**ρ,L)\n",
    "        bb=np.multiply(Q,rr)\n",
    "        bb[i]=bb[i]+1\n",
    "        xx_i=CRT(P,bb)\n",
    "        XX.append(xx_i)\n",
    "      \n",
    "    \n",
    "    return λ,ρ,η,γ,τ,x_0,Q,P,X,XX"
   ]
  },
  {
   "cell_type": "code",
   "execution_count": 17,
   "metadata": {},
   "outputs": [
    {
     "name": "stdout",
     "output_type": "stream",
     "text": [
      "enter security parameter10\n",
      "λ 10\n",
      "enter length of plaintext10\n",
      "L 10\n",
      "integer coprime and plaintext comes of rings2\n",
      "integer coprime and plaintext comes of rings2\n",
      "integer coprime and plaintext comes of rings2\n",
      "integer coprime and plaintext comes of rings2\n",
      "integer coprime and plaintext comes of rings2\n",
      "integer coprime and plaintext comes of rings2\n",
      "integer coprime and plaintext comes of rings2\n",
      "integer coprime and plaintext comes of rings2\n",
      "integer coprime and plaintext comes of rings2\n",
      "integer coprime and plaintext comes of rings2\n",
      "ρ 20\n",
      "η 100\n",
      "γ 100000\n",
      "τ 100010\n",
      "True\n",
      "True\n",
      "True\n",
      "True\n",
      "True\n",
      "True\n",
      "True\n",
      "True\n",
      "True\n",
      "True\n"
     ]
    }
   ],
   "source": [
    "λ=1\n",
    "j=keygeneration(λ)\n",
    "λ=j[0]\n",
    "ρ=j[1]\n",
    "η=j[2]\n",
    "γ=j[3]\n",
    "τ=j[4]\n",
    "x_0=j[5]\n",
    "Q =j[6]\n",
    "P=j[7]\n",
    "X=j[8]\n",
    "XX=j[9]"
   ]
  },
  {
   "cell_type": "markdown",
   "metadata": {},
   "source": [
    "### generate list plain text"
   ]
  },
  {
   "cell_type": "code",
   "execution_count": 18,
   "metadata": {},
   "outputs": [],
   "source": [
    "def plaintext(Q):\n",
    "    #n = int(input(\"Enter number of elements : \"))\n",
    "    m=[]\n",
    "    for i in Q:\n",
    "        mm = np.random.randint(0,i)\n",
    "        m.append(mm)\n",
    "    print('plaintext' ,m)\n",
    "    return m"
   ]
  },
  {
   "cell_type": "code",
   "execution_count": 19,
   "metadata": {},
   "outputs": [
    {
     "name": "stdout",
     "output_type": "stream",
     "text": [
      "plaintext [0, 1, 0, 0, 0, 1, 0, 0, 0, 1]\n"
     ]
    }
   ],
   "source": [
    "m=plaintext(Q)"
   ]
  },
  {
   "cell_type": "markdown",
   "metadata": {},
   "source": [
    "# encryption"
   ]
  },
  {
   "cell_type": "code",
   "execution_count": 20,
   "metadata": {},
   "outputs": [],
   "source": [
    "def enc(m,x_0,τ,X,XX):\n",
    "    m = list(m)\n",
    "    #b=[]\n",
    "    #for i in range (0,τ):\n",
    "               # b.append(random.randint(0,2))\n",
    "    b=np.random.randint(0,2,τ)\n",
    "    c0=np.inner(m,XX)+np.inner(b,X)\n",
    "    #c1=np.inner(b,X)\n",
    "    #c2=c0+c1\n",
    "    c=modNear(c0,x_0)\n",
    "    print(\"ciphertext\",c)\n",
    "    return c"
   ]
  },
  {
   "cell_type": "code",
   "execution_count": 21,
   "metadata": {},
   "outputs": [
    {
     "name": "stdout",
     "output_type": "stream",
     "text": [
      "ciphertext 9265648920753041857929503184135340168567062190239472614857966719256291157297760932885244612777701144540147483520477936243352245160864939605386572000286494011210636047916707031036436465468757384015854671161816665593055882057787844321544619125135017095958705362848061272543715212499049978798729951037573136\n",
      "--- 0.1760098934173584 seconds ---\n"
     ]
    }
   ],
   "source": [
    "import time\n",
    "start_time = time.time()\n",
    "c=enc(m,x_0,τ,X,XX)\n",
    "print(\"--- %s seconds ---\" % (time.time() - start_time))"
   ]
  },
  {
   "cell_type": "markdown",
   "metadata": {},
   "source": [
    "# decription"
   ]
  },
  {
   "cell_type": "code",
   "execution_count": 22,
   "metadata": {},
   "outputs": [],
   "source": [
    "def dec(c,P,Q):\n",
    "    #ddd=np.multiplay(2,c)\n",
    "    d0=[]\n",
    "    for j in P:\n",
    "        d0.append(modNear(c,j))\n",
    "    d=[]\n",
    "    for i in range(0,len(Q)):\n",
    "        d.append(modNear(d0[i],Q[i]))\n",
    "    print(\"decription\",d)\n",
    "    return d"
   ]
  },
  {
   "cell_type": "code",
   "execution_count": 23,
   "metadata": {},
   "outputs": [
    {
     "name": "stdout",
     "output_type": "stream",
     "text": [
      "decription [0, -1, 0, 0, 0, -1, 0, 0, 0, -1]\n",
      "--- 0.0009999275207519531 seconds ---\n"
     ]
    }
   ],
   "source": [
    "import time\n",
    "start_time = time.time()\n",
    "d=dec(c,P,Q)\n",
    "print(\"--- %s seconds ---\" % (time.time() - start_time))"
   ]
  },
  {
   "cell_type": "markdown",
   "metadata": {},
   "source": [
    "# error decription"
   ]
  },
  {
   "cell_type": "code",
   "execution_count": 24,
   "metadata": {},
   "outputs": [],
   "source": [
    "def error(d,m):\n",
    "    m=list(m)\n",
    "    xx = np.add(d,m)\n",
    "    xxx  = xx % 2\n",
    "    x  = list(xxx)\n",
    "    error=sum(x)\n",
    "    print('error', error)"
   ]
  },
  {
   "cell_type": "code",
   "execution_count": 25,
   "metadata": {},
   "outputs": [
    {
     "name": "stdout",
     "output_type": "stream",
     "text": [
      "error 0\n"
     ]
    }
   ],
   "source": [
    "error(d,m)"
   ]
  },
  {
   "cell_type": "markdown",
   "metadata": {},
   "source": [
    "# Add multi list"
   ]
  },
  {
   "cell_type": "code",
   "execution_count": 26,
   "metadata": {},
   "outputs": [],
   "source": [
    "def multilistsum(x_0,γ,τ,X,XX,Q,P):\n",
    "    k = int(input(\"Enter number of lists : \"))\n",
    "    #n = int(input(\"Enter number of elements : \"))\n",
    "    m=[]\n",
    "    for i in range(0,k):\n",
    "        m.append(plaintext(Q))\n",
    "    c=[]\n",
    "    for i in m:\n",
    "        cc=enc(i,x_0,τ,X,XX)\n",
    "        c.append(cc)\n",
    "    sumc=modNear(sum(c),x_0)\n",
    "    d=dec(sumc,P,Q)\n",
    "    print(\"decription SUM Multi cipertext List\",d)\n",
    "    ggg=np.zeros(len(Q))\n",
    "    gg=list(ggg)\n",
    "    for i in m:\n",
    "        sumplaintexst=np.add(gg,i)\n",
    "        gg=sumplaintexst\n",
    "    gg=list(gg)\n",
    "    dd=[]\n",
    "    for i in gg:\n",
    "        i=i%2\n",
    "        dd.append(i)\n",
    "    print(\"SUM MUlti plaintext List\" , dd)\n",
    "    print('error', error(d,dd))"
   ]
  },
  {
   "cell_type": "code",
   "execution_count": 30,
   "metadata": {},
   "outputs": [
    {
     "name": "stdout",
     "output_type": "stream",
     "text": [
      "Enter number of lists : 10\n",
      "plaintext [1, 1, 1, 1, 1, 0, 0, 0, 0, 1]\n",
      "plaintext [1, 0, 0, 1, 1, 0, 0, 0, 0, 0]\n",
      "plaintext [1, 1, 1, 1, 0, 0, 1, 0, 0, 0]\n",
      "plaintext [0, 1, 0, 1, 0, 1, 0, 0, 0, 0]\n",
      "plaintext [1, 1, 0, 1, 0, 0, 0, 1, 0, 1]\n",
      "plaintext [1, 1, 0, 1, 1, 1, 1, 0, 1, 1]\n",
      "plaintext [0, 1, 1, 1, 0, 0, 0, 0, 1, 0]\n",
      "plaintext [0, 1, 0, 0, 1, 0, 0, 0, 1, 0]\n",
      "plaintext [1, 0, 1, 0, 0, 1, 1, 0, 0, 0]\n",
      "plaintext [1, 1, 0, 0, 0, 1, 0, 1, 1, 1]\n",
      "ciphertext 9317414955364688788393437343246412863036988854632151967818498744801906201367882886661209733556264377477040379688856719390020979037215019119433975113637937078419618117966251227072734370882303544622417931130493818671025505159607399032830365268948094944854750178458370107210251093480465392858613255641855106\n",
      "ciphertext 9325048527771053279741176714434250391864818980001015355924515218999145759206509255307671900351105591200665654393067864102717293016252252574330735169209403996387360026699693268990763496547376373344858826589506793563015858723446954455779484486438381413387774047590073261250774915326868190411129404573871746\n",
      "ciphertext 9280916754489136461169673591645269898303645299279337140467732928080665154623888394431590860094367763733184495443360506963105359122487683266431256676211609140227531567043834506172091279807314499327446619845200576157433273108352708925361042894476371317740996729274635058600451238662383901247257944165136450\n",
      "ciphertext 9256082514818303925526498820651946866450556250061894729306759251045204786063629011256555301714222894518906282259630183103651765064231493324266484747105902767889055388639315157621487338361446556961823332908542465277299682405792781041910454666485110367763881172785740036432978820493702630178871999438451877\n",
      "ciphertext 9296662664828264190356901929539584940477372157013454093685911213271886029625791800216088397394875789744497745597125647165207110964272387707150510138339201807560096923343916635566463524288703096749797415257143037447263998836873745542950034059188020489820811299051181336124230515787005466822721628897479407\n",
      "ciphertext 9335472866046843806361190837175331302261653315595237200698637432066739366145855689411516349865386163723587398776470539763804756094369428806565039637597871360796708627880476194914249281740124221754395016960230481570296265535904249248356959366132080440903423790712373663383100901640641993141434999763660891\n",
      "ciphertext 9315719948735555943059814339663324605280833708802928085251185610080296669653590711600309820373065100173969034070110413061891731106813503396950654504289307120281852382372392832576273694978387222430140966946196883796161803521323132130148084820060670926554019827078383301101926849357008143460390906804154063\n",
      "ciphertext 9312900527662940445209799419408665721199006562858094690899363730259548707524719962200347653906679741694224737516535786065867532399694417296620097237548430827189336902425234413297828354245104361837004735674966110702056789495974145742422131573715870691738468345034976249690137863799226825648619750331427562\n",
      "ciphertext 9339316590908757078704887381828661039949263535507321938160361578603767590383446506527855478336596909613543606015802431377190241721971375515336503618813103701326276315537202295636240279144284093563662977217055701039857508907752198355511577039174785518027389187107088717440591282850771774978167203571359044\n",
      "ciphertext 9321380637837492169074029358328324756338146859829961054308349300003320029344721032541846740232096823825874501703992340319412084412587959688429865258612805313904110130247675953466635721125667633474777524578978627435764446212837019934252982548973203304867566749552479538603164729915725886956345721182610153\n",
      "decription [-1, 0, 0, -1, 0, 0, -1, 0, 0, 0]\n",
      "decription SUM Multi cipertext List [-1, 0, 0, -1, 0, 0, -1, 0, 0, 0]\n",
      "SUM MUlti plaintext List [1.0, 0.0, 0.0, 1.0, 0.0, 0.0, 1.0, 0.0, 0.0, 0.0]\n",
      "error 0.0\n",
      "error None\n"
     ]
    }
   ],
   "source": [
    "multilistsum(x_0,γ,τ,X,XX,Q,P)"
   ]
  },
  {
   "cell_type": "markdown",
   "metadata": {},
   "source": [
    "# MULTIPLACTION multi list"
   ]
  },
  {
   "cell_type": "code",
   "execution_count": 28,
   "metadata": {},
   "outputs": [],
   "source": [
    "def multilistmultiplaction(x_0,γ,τ,X,XX,Q,P):\n",
    "    k = int(input(\"Enter number of lists : \"))\n",
    "   # n = int(input(\"Enter number of elements : \"))\n",
    "    m=[]\n",
    "    for i in range(0,k):\n",
    "        m.append(plaintext(Q))\n",
    "    c=[]\n",
    "    for i in m:\n",
    "        cc=enc(i,x_0,τ,X,XX)\n",
    "        c.append(cc)\n",
    "    multc=modNear(np.product(c),x_0)\n",
    "    d= dec(multc,P,Q)\n",
    "    print(\"decription multiplacton multi ciphertext\" , d)\n",
    "    uuu=np.ones(len(Q))\n",
    "    uu=list(uuu)\n",
    "    for i in m:\n",
    "        mulevalute = np.multiply(uu,i) \n",
    "        uu=mulevalute\n",
    "    uu=list(uu)\n",
    "    dd=[]\n",
    "    for i in uu:\n",
    "        i=i%2\n",
    "        dd.append(i)\n",
    "    print(\"multiplaction MUlti plaintext List\" , dd)\n",
    "    print('error', error(d,dd))"
   ]
  },
  {
   "cell_type": "code",
   "execution_count": 31,
   "metadata": {},
   "outputs": [
    {
     "name": "stdout",
     "output_type": "stream",
     "text": [
      "Enter number of lists : 10\n",
      "plaintext [1, 0, 1, 1, 1, 0, 0, 1, 0, 1]\n",
      "plaintext [0, 0, 1, 0, 1, 0, 1, 0, 1, 0]\n",
      "plaintext [1, 1, 0, 1, 0, 1, 0, 0, 0, 1]\n",
      "plaintext [1, 0, 0, 1, 0, 0, 1, 1, 1, 1]\n",
      "plaintext [1, 0, 1, 0, 0, 0, 0, 0, 1, 0]\n",
      "plaintext [0, 0, 1, 1, 1, 1, 0, 1, 0, 1]\n",
      "plaintext [0, 0, 0, 1, 1, 0, 1, 0, 0, 1]\n",
      "plaintext [0, 0, 0, 1, 1, 0, 1, 1, 0, 1]\n",
      "plaintext [1, 1, 0, 1, 1, 0, 0, 0, 0, 1]\n",
      "plaintext [1, 0, 1, 0, 1, 0, 1, 0, 1, 1]\n",
      "ciphertext 9269786324134770790974838639815434547691700585737423328836519659704772566861693340058156264551190172771977628069550989036185836479373667480501629787151146932016148220490386550202565153982032890504934741137353552416483336444991687443173809563229957882890217485581848740546342840010313037357371359492807265\n",
      "ciphertext 9338400165264096243205568010683396168284848726100819565049107018330691949017268301990197339920059968023050352643246877405797068123471611905922860509246191016844313650090114570307497148177215228918846969743921943340587515280040621796845738362618466367547436175228646098727182954482255504857933053722853760\n",
      "ciphertext 9290956901055058943063450345595860525412942946080877491316613311929861618517812581777365819679978437259230069535095605615916103280068617203223896732358062354269291097585091681208236108075233498947066426857277783955144055124274084957041369120927768006879837214945112428964855723142988439095520065580510639\n",
      "ciphertext 9250819563491463765776052312839360139940990751349534971769365889844030341913834132807932546499835334452351464639530905047195598091785054522113107709167378254112502012060876170549160121591292980080897636732880958023191651419132837151784480982804526335769690076729965829409408831788535194240295072233031082\n",
      "ciphertext 9370312034234569378395434842965900055602469631729079075728052293424472665015051327705621335639108585023727084985516406867638147326105636685270282312312799370598890023682604960192922740239241505120867772137198566192456093465948706406627330635115886782666584747868379019924794866086113394949999776480395060\n",
      "ciphertext 9311458508902636906583863070269518496528150963845633185864900978999274247829114205645893269314797692612209632713621488775396113499567892007891199563693033547908518897966429732389012995895513090715756864802119342473365672061828864908145290808248584608982732643738967526223907291628845811551777840159917927\n",
      "ciphertext 9262190813620061288139736599790535411331931524976645235687803553680502537777925457425170671885909093701410338120049620211055471133904899268871276801981167116949842248213109886810721059712537745693880296692921250446240106092395625285774342050476433946445545798009174801613797021138413400180575930305617928\n",
      "ciphertext 9346187966883937596866907533452835148572239556086615305406207144025801616687579290830891303676721098472166000799526665074526110951440413281190302791062208884721133683342263473084003691791329662276474751866701519651515593236398943985990883953464130723882365821658438536071195531607546811780282727588427629\n",
      "ciphertext 9336557238076740602250966052219601986281194771696213342398331028116308864652795941705338330023461929894573120590288290147446519631151014442923660293301222003370734081246031623018571878191258354449385379420276550817242922859313019642867475802529601524369187788820531531915692270928468330722340068845125075\n",
      "ciphertext 9311052907510790992323372382485189867813941969835298444403921893482039271579338691981558762427002813105816285029953642693046862730787274194378135462938134720952872177761469111828460648253915383750167520678349691488405772666743058213468523028253977920535371291079029945256465802580656468387993218390537915\n",
      "decription [0, -1, -1, -1, 0, 0, 0, 0, -1, 0]\n",
      "decription multiplacton multi ciphertext [0, -1, -1, -1, 0, 0, 0, 0, -1, 0]\n",
      "multiplaction MUlti plaintext List [0.0, 0.0, 0.0, 0.0, 0.0, 0.0, 0.0, 0.0, 0.0, 0.0]\n",
      "error 4.0\n",
      "error None\n"
     ]
    }
   ],
   "source": [
    "multilistmultiplaction(x_0,γ,τ,X,XX,Q,P)"
   ]
  },
  {
   "cell_type": "markdown",
   "metadata": {},
   "source": []
  }
 ],
 "metadata": {
  "kernelspec": {
   "display_name": "Python 3",
   "language": "python",
   "name": "python3"
  },
  "language_info": {
   "codemirror_mode": {
    "name": "ipython",
    "version": 3
   },
   "file_extension": ".py",
   "mimetype": "text/x-python",
   "name": "python",
   "nbconvert_exporter": "python",
   "pygments_lexer": "ipython3",
   "version": "3.6.5"
  }
 },
 "nbformat": 4,
 "nbformat_minor": 4
}
